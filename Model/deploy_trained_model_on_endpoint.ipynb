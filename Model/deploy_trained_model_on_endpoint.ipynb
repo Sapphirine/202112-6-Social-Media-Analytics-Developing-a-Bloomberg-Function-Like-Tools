{
 "cells": [
  {
   "cell_type": "code",
   "execution_count": 93,
   "id": "e718f451",
   "metadata": {},
   "outputs": [],
   "source": [
    "import os\n",
    "import sys\n",
    "import re\n",
    "import csv\n",
    "import warnings\n",
    "import pickle\n",
    "import datetime\n",
    "import tensorflow as tf \n",
    "import pandas as pd\n",
    "import traceback\n",
    "import time \n",
    "import json\n",
    "import numpy as np \n",
    "from collections import defaultdict\n",
    "from tensorflow import keras \n",
    "from tensorflow.keras import layers\n",
    "from tensorflow.keras import Input \n",
    "from tensorflow.keras.layers import Dense, LSTM, Bidirectional, Dropout, Embedding, BatchNormalization\n",
    "warnings.filterwarnings(\"ignore\")\n",
    "\n",
    "cur_path=os.getcwd()\n",
    "path=cur_path+'/topic_cls_data/train/train.csv'\n",
    "word_dict = defaultdict(int)\n",
    "with open(path, 'r', encoding='utf-8') as f:\n",
    "    rdr = csv.reader(f, delimiter=',', quotechar='\"')\n",
    "    for row in rdr:\n",
    "        txt = re.sub(\"^\\s*(.-)\\s*$\", \"%1\", row[2]).replace(\"\\\\n\", \"\\n\").replace('\\\\', ' ')\n",
    "        txt = txt.split()\n",
    "        for word in txt:\n",
    "            word_dict[word.lower()]+=1\n",
    "word_list=sorted(word_dict.items(), key=lambda d: -d[1])\n",
    "word_index={'<pad>': 0, '<start>': 1, '<unknown>': 2, '<unused>': 3}\n",
    "for i in range(29996):\n",
    "    word_index[word_list[i][0]]=i+4"
   ]
  },
  {
   "cell_type": "code",
   "execution_count": 39,
   "id": "fa303b49",
   "metadata": {},
   "outputs": [],
   "source": [
    "import os\n",
    "import json\n",
    "import sagemaker\n",
    "from sagemaker.tensorflow.serving import Model\n",
    "from sagemaker import get_execution_role\n",
    "from matplotlib import pyplot as mlt\n",
    "import boto3\n",
    "sagemaker_session = sagemaker.Session()\n",
    "role = get_execution_role()\n",
    "bucket = sagemaker_session.default_bucket()\n",
    "#bucket = 'bilstm-att-data6893'"
   ]
  },
  {
   "cell_type": "code",
   "execution_count": 23,
   "id": "578a9242",
   "metadata": {},
   "outputs": [
    {
     "data": {
      "text/plain": [
       "'sagemaker-us-east-2-288882751603'"
      ]
     },
     "execution_count": 23,
     "metadata": {},
     "output_type": "execute_result"
    }
   ],
   "source": [
    "bucket"
   ]
  },
  {
   "cell_type": "code",
   "execution_count": 31,
   "id": "b641c978",
   "metadata": {},
   "outputs": [],
   "source": [
    "prefix = 'tf-serving'\n",
    "model_data = sagemaker_session.upload_data('topic_cls.tar.gz',\n",
    "                                           bucket,\n",
    "                                           os.path.join(prefix, 'model'))"
   ]
  },
  {
   "cell_type": "code",
   "execution_count": 32,
   "id": "8abaabf4",
   "metadata": {},
   "outputs": [
    {
     "data": {
      "text/plain": [
       "'s3://sagemaker-us-east-2-288882751603/tf-serving/model/topic_cls.tar.gz'"
      ]
     },
     "execution_count": 32,
     "metadata": {},
     "output_type": "execute_result"
    }
   ],
   "source": [
    "model_data"
   ]
  },
  {
   "cell_type": "code",
   "execution_count": 33,
   "id": "5d4bfb93",
   "metadata": {},
   "outputs": [
    {
     "name": "stderr",
     "output_type": "stream",
     "text": [
      "The class sagemaker.tensorflow.serving.Model has been renamed in sagemaker>=2.\n",
      "See: https://sagemaker.readthedocs.io/en/stable/v2.html for details.\n"
     ]
    }
   ],
   "source": [
    "tensorflow_serving_model = Model(model_data=model_data,\n",
    "                                 role=role,\n",
    "                                 framework_version='2.4',\n",
    "                                 sagemaker_session=sagemaker_session)"
   ]
  },
  {
   "cell_type": "code",
   "execution_count": 34,
   "id": "4be345b0",
   "metadata": {},
   "outputs": [
    {
     "name": "stderr",
     "output_type": "stream",
     "text": [
      "update_endpoint is a no-op in sagemaker>=2.\n",
      "See: https://sagemaker.readthedocs.io/en/stable/v2.html for details.\n"
     ]
    },
    {
     "name": "stdout",
     "output_type": "stream",
     "text": [
      "----!"
     ]
    }
   ],
   "source": [
    "predictor = tensorflow_serving_model.deploy(initial_instance_count=1, instance_type='ml.m5.xlarge')"
   ]
  },
  {
   "cell_type": "code",
   "execution_count": null,
   "id": "7676a7bb",
   "metadata": {},
   "outputs": [],
   "source": [
    "# from sagemaker.deserializers import JSONDeserializer\n",
    "# from sagemaker.serializers import CSVSerializer\n",
    "\n",
    "# predictor = tensorflow_serving_model.deploy(initial_instance_count=1, instance_type='ml.m5.xlarge', serializer=CSVSerializer(), deserializer=JSONDeserializer())"
   ]
  },
  {
   "cell_type": "code",
   "execution_count": 35,
   "id": "4e4609e1",
   "metadata": {},
   "outputs": [
    {
     "data": {
      "text/plain": [
       "'tensorflow-inference-2021-12-01-04-20-34-109'"
      ]
     },
     "execution_count": 35,
     "metadata": {},
     "output_type": "execute_result"
    }
   ],
   "source": [
    "predictor.endpoint_name"
   ]
  },
  {
   "cell_type": "code",
   "execution_count": 43,
   "id": "fb821a01",
   "metadata": {},
   "outputs": [],
   "source": [
    "def one_hot_encode(raw_y, num_classes):\n",
    "    index = np.array(raw_y)\n",
    "    out = np.zeros((index.shape[0], num_classes))\n",
    "    out[np.arange(index.shape[0]), index-1] = 1\n",
    "    return out \n",
    "\n",
    "def load_data(path, max_seq_len, word_index, num_classes):\n",
    "    raw_y = []\n",
    "    raw_x = []\n",
    "    with open(path, 'r', encoding='utf-8') as f:\n",
    "        rdr = csv.reader(f, delimiter=',', quotechar='\"')\n",
    "        for row in rdr:\n",
    "            raw_y.append(int(row[0]))\n",
    "            txt = re.sub(\"^\\s*(.-)\\s*$\", \"%1\", row[2]).replace(\"\\\\n\", \"\\n\").replace('\\\\', ' ').split()\n",
    "            txt_len = len(txt)\n",
    "            x = np.zeros(max_seq_len, dtype = np.int32)\n",
    "            if txt_len <= max_seq_len:\n",
    "                for i in range(txt_len):\n",
    "                    try:\n",
    "                        x[i]=word_index[txt[i]]\n",
    "                    except:\n",
    "                        x[i]=2\n",
    "            else:\n",
    "                for i in range(txt_len-max_seq_len, txt_len):\n",
    "                    try:\n",
    "                        x[i - txt_len + max_seq_len] = word_index[txt[i]]\n",
    "                    except:\n",
    "                        x[i - txt_len + max_seq_len]=2\n",
    "            raw_x.append(x)\n",
    "    all_x = np.array(raw_x)\n",
    "    all_y = one_hot_encode(raw_y, num_classes)\n",
    "    return all_x, all_y"
   ]
  },
  {
   "cell_type": "code",
   "execution_count": 44,
   "id": "2d2495dd",
   "metadata": {},
   "outputs": [],
   "source": [
    "max_seq_len = 128\n",
    "num_classes = 3\n",
    "cur_path=os.getcwd()\n",
    "test_path=cur_path+'/topic_cls_data/test/test.csv'\n",
    "test_x, test_y = load_data(test_path, max_seq_len, word_index, num_classes)"
   ]
  },
  {
   "cell_type": "code",
   "execution_count": 50,
   "id": "4bc0d579",
   "metadata": {},
   "outputs": [],
   "source": [
    "preds = []\n",
    "for i in range(238):\n",
    "    input_x=test_x[i*32:(i+1)*32]\n",
    "    raw_prob = np.array(predictor.predict(input_x)['predictions'])\n",
    "    label = np.argmax(raw_prob,axis=1)\n",
    "    preds.extend(label)"
   ]
  },
  {
   "cell_type": "code",
   "execution_count": 51,
   "id": "ede72b23",
   "metadata": {},
   "outputs": [
    {
     "data": {
      "image/png": "[encoded data removed]",
      "text/plain": [
       "<Figure size 432x288 with 2 Axes>"
      ]
     },
     "metadata": {
      "needs_background": "light"
     },
     "output_type": "display_data"
    }
   ],
   "source": [
    "from sklearn.metrics import confusion_matrix\n",
    "from sklearn.metrics import ConfusionMatrixDisplay\n",
    "labels=np.argmax(test_y, axis=1)\n",
    "cm=confusion_matrix(preds, labels)\n",
    "cm_display = ConfusionMatrixDisplay(cm).plot()"
   ]
  },
  {
   "cell_type": "code",
   "execution_count": null,
   "id": "417c95a8",
   "metadata": {},
   "outputs": [],
   "source": []
  },
  {
   "cell_type": "code",
   "execution_count": null,
   "id": "85981acf",
   "metadata": {},
   "outputs": [],
   "source": []
  },
  {
   "cell_type": "code",
   "execution_count": 86,
   "id": "9b1121c9",
   "metadata": {},
   "outputs": [],
   "source": [
    "import os\n",
    "import sys\n",
    "import re\n",
    "import csv\n",
    "import warnings\n",
    "import pickle\n",
    "import datetime\n",
    "import tensorflow as tf \n",
    "import pandas as pd\n",
    "import traceback\n",
    "import tqdm\n",
    "import time \n",
    "import json\n",
    "import numpy as np \n",
    "from itertools import islice\n",
    "from collections import defaultdict\n",
    "from tensorflow import keras \n",
    "from tensorflow.keras import layers\n",
    "from tensorflow.keras import Input \n",
    "from tensorflow.keras.layers import Dense, LSTM, Bidirectional, Dropout, Embedding, BatchNormalization\n",
    "warnings.filterwarnings(\"ignore\")\n",
    "csv.field_size_limit(500 * 1024 * 1024)\n",
    "\n",
    "cur_path=os.getcwd()\n",
    "path=cur_path+'/fake_news_data/train/train.csv'\n",
    "word_dict = defaultdict(int)\n",
    "with open(path, 'r', encoding='utf-8') as f:\n",
    "    rdr = csv.reader(f, delimiter=',', quotechar='\"')\n",
    "    for row in islice(rdr, 1, None):\n",
    "        txt = re.sub(\"^\\s*(.-)\\s*$\", \"%1\", row[3]).replace('\\n', '')\n",
    "        txt = txt.split()\n",
    "        for word in txt:\n",
    "            word_dict[word.lower()]+=1\n",
    "word_list=sorted(word_dict.items(), key=lambda d: -d[1])\n",
    "word_index={'<pad>': 0, '<start>': 1, '<unknown>': 2, '<unused>': 3}\n",
    "for i in range(29996):\n",
    "    word_index[word_list[i][0]]=i+4"
   ]
  },
  {
   "cell_type": "code",
   "execution_count": 57,
   "id": "3eb4c383",
   "metadata": {},
   "outputs": [],
   "source": [
    "prefix = 'tf-serving'\n",
    "model_data = sagemaker_session.upload_data('fake_news_cls.tar.gz',\n",
    "                                           bucket,\n",
    "                                           os.path.join(prefix, 'model'))"
   ]
  },
  {
   "cell_type": "code",
   "execution_count": 58,
   "id": "2a1c8450",
   "metadata": {},
   "outputs": [
    {
     "data": {
      "text/plain": [
       "'s3://sagemaker-us-east-2-288882751603/tf-serving/model/fake_news_cls.tar.gz'"
      ]
     },
     "execution_count": 58,
     "metadata": {},
     "output_type": "execute_result"
    }
   ],
   "source": [
    "model_data"
   ]
  },
  {
   "cell_type": "code",
   "execution_count": 59,
   "id": "be092aa5",
   "metadata": {},
   "outputs": [
    {
     "name": "stderr",
     "output_type": "stream",
     "text": [
      "The class sagemaker.tensorflow.serving.Model has been renamed in sagemaker>=2.\n",
      "See: https://sagemaker.readthedocs.io/en/stable/v2.html for details.\n"
     ]
    }
   ],
   "source": [
    "tensorflow_serving_model = Model(model_data=model_data,\n",
    "                                 role=role,\n",
    "                                 framework_version='2.4',\n",
    "                                 sagemaker_session=sagemaker_session)"
   ]
  },
  {
   "cell_type": "code",
   "execution_count": 60,
   "id": "d250fe80",
   "metadata": {},
   "outputs": [
    {
     "name": "stderr",
     "output_type": "stream",
     "text": [
      "update_endpoint is a no-op in sagemaker>=2.\n",
      "See: https://sagemaker.readthedocs.io/en/stable/v2.html for details.\n"
     ]
    },
    {
     "name": "stdout",
     "output_type": "stream",
     "text": [
      "----!"
     ]
    }
   ],
   "source": [
    "predictor = tensorflow_serving_model.deploy(initial_instance_count=1, instance_type='ml.m5.xlarge')"
   ]
  },
  {
   "cell_type": "code",
   "execution_count": 61,
   "id": "ab98c3f5",
   "metadata": {},
   "outputs": [
    {
     "data": {
      "text/plain": [
       "'tensorflow-inference-2021-12-02-05-26-57-762'"
      ]
     },
     "execution_count": 61,
     "metadata": {},
     "output_type": "execute_result"
    }
   ],
   "source": [
    "predictor.endpoint_name"
   ]
  },
  {
   "cell_type": "code",
   "execution_count": 62,
   "id": "ed4584d4",
   "metadata": {},
   "outputs": [],
   "source": [
    "def one_hot_encode(raw_y, num_classes):\n",
    "    index = np.array(raw_y)\n",
    "    out = np.zeros((index.shape[0], num_classes))\n",
    "    out[np.arange(index.shape[0]), index-1] = 1\n",
    "    return out \n",
    "\n",
    "def load_data(path, max_seq_len, word_index, num_classes):\n",
    "    raw_y = []\n",
    "    raw_x = []\n",
    "    with open(path, 'r', encoding='utf-8') as f:\n",
    "        rdr = csv.reader(f, delimiter=',', quotechar='\"')\n",
    "        for row in islice(rdr, 1, None):\n",
    "            raw_y.append(int(row[4]))\n",
    "            txt = re.sub(\"^\\s*(.-)\\s*$\", \"%1\", row[3]).replace('\\n', '').split()\n",
    "            txt_len = len(txt)\n",
    "            x = np.zeros(max_seq_len, dtype = np.int32)\n",
    "            if txt_len <= max_seq_len:\n",
    "                for i in range(txt_len):\n",
    "                    try:\n",
    "                        x[i]=word_index[txt[i]]\n",
    "                    except:\n",
    "                        x[i]=2\n",
    "            else:\n",
    "                for i in range(max_seq_len):\n",
    "                    try:\n",
    "                        x[i] = word_index[txt[i]]\n",
    "                    except:\n",
    "                        x[i]=2\n",
    "            raw_x.append(x)\n",
    "    all_x = np.array(raw_x)\n",
    "    all_y = one_hot_encode(raw_y, num_classes)\n",
    "    return all_x, all_y"
   ]
  },
  {
   "cell_type": "code",
   "execution_count": 64,
   "id": "ace51253",
   "metadata": {},
   "outputs": [],
   "source": [
    "max_seq_len = 256\n",
    "num_classes = 2\n",
    "cur_path=os.getcwd()\n",
    "test_path=cur_path+'/fake_news_data/test/test.csv'\n",
    "test_x, test_y = load_data(test_path, max_seq_len, word_index, num_classes)"
   ]
  },
  {
   "cell_type": "code",
   "execution_count": 140,
   "id": "984223cc",
   "metadata": {},
   "outputs": [
    {
     "data": {
      "text/plain": [
       "0.0025017054080963136"
      ]
     },
     "execution_count": 140,
     "metadata": {},
     "output_type": "execute_result"
    }
   ],
   "source": [
    "preds = []\n",
    "start_time=time.time()\n",
    "for i in range(94):\n",
    "    input_x=test_x[i*32:(i+1)*32]\n",
    "    raw_prob = np.array(predictor.predict(input_x)['predictions'])\n",
    "    label = np.argmax(raw_prob,axis=1)\n",
    "    preds.extend(label)\n",
    "end_time=time.time()\n",
    "(end_time-start_time)/len(test_x)"
   ]
  },
  {
   "cell_type": "code",
   "execution_count": 67,
   "id": "212e69bb",
   "metadata": {},
   "outputs": [
    {
     "data": {
      "image/png": "[encoded data removed]",
      "text/plain": [
       "<Figure size 432x288 with 2 Axes>"
      ]
     },
     "metadata": {
      "needs_background": "light"
     },
     "output_type": "display_data"
    }
   ],
   "source": [
    "from sklearn.metrics import confusion_matrix\n",
    "from sklearn.metrics import ConfusionMatrixDisplay\n",
    "labels=np.argmax(test_y, axis=1)\n",
    "cm=confusion_matrix(preds, labels)\n",
    "cm_display = ConfusionMatrixDisplay(cm).plot()"
   ]
  },
  {
   "cell_type": "code",
   "execution_count": 68,
   "id": "0a4aec82",
   "metadata": {},
   "outputs": [
    {
     "name": "stdout",
     "output_type": "stream",
     "text": [
      "acc:  0.9703333333333334\n",
      "pre:  0.9703326534811794\n",
      "rcl:  0.9703357890544999\n",
      "f1:  0.970333250925697\n"
     ]
    }
   ],
   "source": [
    "from sklearn import metrics\n",
    "print('acc: ', metrics.accuracy_score(labels, preds))\n",
    "print('pre: ', metrics.precision_score(labels, preds, average='macro'))\n",
    "print('rcl: ', metrics.recall_score(labels, preds, average='macro'))\n",
    "print('f1: ', metrics.f1_score(labels, preds, average='macro'))"
   ]
  },
  {
   "cell_type": "code",
   "execution_count": null,
   "id": "9ed5e21e",
   "metadata": {},
   "outputs": [],
   "source": []
  }
 ],
 "metadata": {
  "kernelspec": {
   "display_name": "Python 3",
   "language": "python",
   "name": "python3"
  },
  "language_info": {
   "codemirror_mode": {
    "name": "ipython",
    "version": 3
   },
   "file_extension": ".py",
   "mimetype": "text/x-python",
   "name": "python",
   "nbconvert_exporter": "python",
   "pygments_lexer": "ipython3",
   "version": "3.7.11"
  }
 },
 "nbformat": 4,
 "nbformat_minor": 5
}
