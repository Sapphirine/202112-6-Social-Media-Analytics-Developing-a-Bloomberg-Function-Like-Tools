{
 "cells": [
  {
   "cell_type": "code",
   "execution_count": 1,
   "id": "950a043d",
   "metadata": {},
   "outputs": [],
   "source": [
    "import os\n",
    "import sys\n",
    "import re\n",
    "import csv\n",
    "import warnings\n",
    "import pickle\n",
    "import datetime\n",
    "import tensorflow as tf \n",
    "import pandas as pd\n",
    "import traceback\n",
    "import time \n",
    "import json\n",
    "import numpy as np \n",
    "from collections import defaultdict\n",
    "from tensorflow import keras \n",
    "from tensorflow.keras import layers\n",
    "from tensorflow.keras import Input \n",
    "from tensorflow.keras.layers import Dense, LSTM, Bidirectional, Dropout, Embedding, BatchNormalization\n",
    "warnings.filterwarnings(\"ignore\")\n",
    "\n",
    "path='/Users/wangshihang/Documents/Code/CharCnn_Keras-master/data/ag_news_csv/train.csv'\n",
    "word_dict = defaultdict(int)\n",
    "with open(path, 'r', encoding='utf-8') as f:\n",
    "    rdr = csv.reader(f, delimiter=',', quotechar='\"')\n",
    "    for row in rdr:\n",
    "        txt = re.sub(\"^\\s*(.-)\\s*$\", \"%1\", row[2]).replace(\"\\\\n\", \"\\n\").replace('\\\\', ' ')\n",
    "        txt = txt.split()\n",
    "        for word in txt:\n",
    "            word_dict[word.lower()]+=1\n",
    "word_list=sorted(word_dict.items(), key=lambda d: -d[1])\n",
    "word_index={'<pad>': 0, '<start>': 1, '<unknown>': 2, '<unused>': 3}\n",
    "for i in range(29996):\n",
    "    word_index[word_list[i][0]]=i+4"
   ]
  },
  {
   "cell_type": "code",
   "execution_count": 3,
   "id": "84178499",
   "metadata": {},
   "outputs": [],
   "source": [
    "def one_hot_encode(raw_y, num_classes):\n",
    "    index = np.array(raw_y)\n",
    "    out = np.zeros((index.shape[0], num_classes))\n",
    "    out[np.arange(index.shape[0]), index-1] = 1\n",
    "    return out \n",
    "\n",
    "def load_data(path, max_seq_len, word_index, num_classes):\n",
    "    raw_y = []\n",
    "    raw_x = []\n",
    "    with open(path, 'r', encoding='utf-8') as f:\n",
    "        rdr = csv.reader(f, delimiter=',', quotechar='\"')\n",
    "        for row in rdr:\n",
    "            raw_y.append(int(row[0]))\n",
    "            txt = re.sub(\"^\\s*(.-)\\s*$\", \"%1\", row[2]).replace(\"\\\\n\", \"\\n\").replace('\\\\', ' ').split()\n",
    "            txt_len = len(txt)\n",
    "            x = np.zeros(max_seq_len, dtype = np.int32)\n",
    "            if txt_len <= max_seq_len:\n",
    "                for i in range(txt_len):\n",
    "                    try:\n",
    "                        x[i]=word_index[txt[i]]\n",
    "                    except:\n",
    "                        x[i]=2\n",
    "            else:\n",
    "                for i in range(txt_len-max_seq_len, txt_len):\n",
    "                    try:\n",
    "                        x[i - txt_len + max_seq_len] = word_index[txt[i]]\n",
    "                    except:\n",
    "                        x[i - txt_len + max_seq_len]=2\n",
    "            raw_x.append(x)\n",
    "    all_x = np.array(raw_x)\n",
    "    all_y = one_hot_encode(raw_y, num_classes)\n",
    "    return all_x, all_y\n",
    "\n",
    "def batch_iter(x, y, batch_size = 32):\n",
    "    data_len = len(x)\n",
    "    num_batch = (data_len + batch_size - 1) // batch_size\n",
    "    indices = np.random.permutation(np.arange(data_len))\n",
    "    x_shuff = x[indices]\n",
    "    y_shuff = y[indices]\n",
    "    for i in range(num_batch):\n",
    "        start_offset = i*batch_size \n",
    "        end_offset = min(start_offset + batch_size, data_len)\n",
    "        yield i, num_batch, x_shuff[start_offset:end_offset], y_shuff[start_offset:end_offset]"
   ]
  },
  {
   "cell_type": "code",
   "execution_count": 73,
   "id": "7205e60e",
   "metadata": {},
   "outputs": [],
   "source": [
    "class RnnAttentionLayer(layers.Layer):\n",
    "    def __init__(self, attention_size, drop_rate):\n",
    "        super().__init__()\n",
    "        self.attention_size = attention_size\n",
    "        self.dropout = Dropout(drop_rate, name = \"rnn_attention_dropout\")\n",
    "    \n",
    "    def build(self, input_shape):\n",
    "        self.attention_w = self.add_weight(name = \"atten_w\", shape = (input_shape[-1], self.attention_size),\n",
    "                                           initializer = tf.random_uniform_initializer(), dtype = \"float32\",\n",
    "                                           trainable = True)\n",
    "        self.attention_u = self.add_weight(name = \"atten_u\", shape = (self.attention_size,),\n",
    "                                           initializer = tf.random_uniform_initializer(), dtype = \"float32\",\n",
    "                                           trainable = True)\n",
    "        self.attention_b = self.add_weight(name = \"atten_b\", shape = (self.attention_size,),\n",
    "                                           initializer = tf.constant_initializer(0.1), dtype = \"float32\",\n",
    "                                           trainable = True)    \n",
    "        super().build(input_shape)\n",
    "    \n",
    "    def call(self, inputs, training):\n",
    "        x = tf.tanh(tf.add(tf.tensordot(inputs, self.attention_w, axes = 1), self.attention_b))\n",
    "        x = tf.tensordot(x, self.attention_u, axes = 1)\n",
    "        x = tf.nn.softmax(x)\n",
    "        weight_out = tf.multiply(tf.expand_dims(x, -1), inputs)\n",
    "        final_out = tf.reduce_sum(weight_out, axis = 1) \n",
    "        drop_out = self.dropout(final_out, training = training)\n",
    "        return drop_out\n",
    "\n",
    "class RnnLayer(layers.Layer):\n",
    "    def __init__(self, rnn_size, drop_rate):\n",
    "        super().__init__()\n",
    "        fwd_lstm = LSTM(rnn_size, return_sequences = True, go_backwards= False, dropout = drop_rate,\n",
    "                        name = \"fwd_lstm\")\n",
    "        bwd_lstm = LSTM(rnn_size, return_sequences = True, go_backwards = True, dropout = drop_rate,\n",
    "                        name = \"bwd_lstm\")\n",
    "        self.bilstm = Bidirectional(merge_mode = \"concat\", layer = fwd_lstm, backward_layer = bwd_lstm,\n",
    "                                    name = \"bilstm\")\n",
    "    \n",
    "    def call(self, inputs, training):\n",
    "        outputs = self.bilstm(inputs, training = training)\n",
    "        return outputs\n",
    "\n",
    "class Model(tf.keras.Model):\n",
    "    def __init__(self, num_classes, drop_rate, vocab_size, embedding_size, rnn_size, attention_size):\n",
    "        super().__init__()\n",
    "        embedding_weight = self.get_embedding_weight(GLoVe_path, word_index)\n",
    "        self.embedding_layer = Embedding(vocab_size, embedding_size, weights=[embedding_weight],\n",
    "                                         name = \"embeding_0\")\n",
    "        self.rnn_layer = RnnLayer(rnn_size, drop_rate)\n",
    "        self.attention_layer = RnnAttentionLayer(attention_size, drop_rate)\n",
    "        self.dense_layer = Dense(num_classes, activation = \"softmax\", \n",
    "                                 kernel_regularizer=keras.regularizers.l2(0.001), name = \"dense_1\")\n",
    "\n",
    "    def call(self, input_x, training):\n",
    "        x = self.embedding_layer(input_x)\n",
    "        x = self.rnn_layer(x, training = training)\n",
    "        x = self.attention_layer(x, training = training)\n",
    "        x = self.dense_layer(x)\n",
    "        return x\n",
    "    \n",
    "    def get_embedding_weight(self, weight_path, word_index):\n",
    "        embedding_weight = np.random.uniform(-0.05, 0.05, size=[30000, 100])\n",
    "        cnt = 0\n",
    "        with open(weight_path, 'r') as f:\n",
    "            for line in f:\n",
    "                values = line.split()\n",
    "                word = values[0].lower()\n",
    "                if word in word_index.keys() and word_index[word]< 30000:\n",
    "                    weight = np.asarray(values[1:], dtype='float32')\n",
    "                    embedding_weight[word_index[word]] = weight\n",
    "                    cnt += 1\n",
    "        print('word num: {}, matched num: {}'.format(len(word_index), cnt))\n",
    "        return embedding_weight"
   ]
  },
  {
   "cell_type": "code",
   "execution_count": 74,
   "id": "f73095d4",
   "metadata": {},
   "outputs": [],
   "source": [
    "def train(xy_train, xy_val, num_classes, vocab_size, epoches, batch_size):\n",
    "    best_acc = 0\n",
    "    uniq_cfg_name = datetime.datetime.now().strftime(\"%Y\")\n",
    "    checkpoint_prefix = os.path.join(os.getcwd(), \"checkpoints\")\n",
    "    if not os.path.exists(checkpoint_prefix):\n",
    "        print(\"create model dir: %s\" % checkpoint_prefix)\n",
    "        os.mkdir(checkpoint_prefix)\n",
    "\n",
    "    checkpoint_path = os.path.join(checkpoint_prefix, uniq_cfg_name)\n",
    "    model = Model(num_classes, drop_rate = 0.05, vocab_size = vocab_size, embedding_size = 100,\n",
    "                  rnn_size = 128, attention_size = 128)\n",
    "    if os.path.exists(checkpoint_path):\n",
    "        model.load_weights(checkpoint_path)\n",
    "        print(\"load weight from: %s\" % checkpoint_path)\n",
    "    \n",
    "    optimizer = tf.keras.optimizers.Adam(0.01)\n",
    "    loss_fn = tf.keras.losses.CategoricalCrossentropy()\n",
    "    \n",
    "    loss_metric = tf.keras.metrics.Mean(name='train_loss')\n",
    "    accuracy_metric = tf.keras.metrics.CategoricalAccuracy(name='train_accuracy')\n",
    "    \n",
    "    @tf.function \n",
    "    def train_step(input_x, input_y, training = True):\n",
    "        if training:\n",
    "            with tf.GradientTape() as tape:\n",
    "                raw_prob = model(input_x, training)\n",
    "                pred_loss = loss_fn(input_y, raw_prob)\n",
    "            gradients = tape.gradient(pred_loss, model.trainable_variables)\n",
    "            optimizer.apply_gradients(zip(gradients, model.trainable_variables))\n",
    "        else:\n",
    "            raw_prob = model(input_x, training)\n",
    "            pred_loss = loss_fn(input_y, raw_prob)\n",
    "        # Update the metrics\n",
    "        loss_metric.update_state(pred_loss)\n",
    "        accuracy_metric.update_state(input_y, raw_prob)\n",
    "        return raw_prob \n",
    "\n",
    "    for i in range(epoches):\n",
    "        t0 = time.time()\n",
    "        batch_train = batch_iter(xy_train[0], xy_train[1], batch_size = batch_size)\n",
    "        loss_metric.reset_states()\n",
    "        accuracy_metric.reset_states()\n",
    "\n",
    "        for batch_no, batch_tot, data_x, data_y in batch_train:\n",
    "            predict_prob = train_step(data_x, data_y, True)  \n",
    "      \n",
    "        print(\"[train ep %d] [%s]: %0.3f  [%s]: %0.3f\" %  (i, \"loss\", loss_metric.result() ,\n",
    "                                                           \"acc\", accuracy_metric.result()))\n",
    "\n",
    "        model.save_weights(checkpoint_path, overwrite=True)\n",
    "        \n",
    "        loss_metric.reset_states()\n",
    "        accuracy_metric.reset_states()\n",
    "        batch_test = batch_iter(xy_val[0], xy_val[1], batch_size = batch_size)\n",
    "        for _, _, data_x, data_y in batch_test:\n",
    "            train_step(data_x, data_y, False)\n",
    "        print(\"[***** ep %d] [%s]: %0.3f  [%s]: %0.3f\" %  (i, \"loss\", loss_metric.result() ,\n",
    "                                                           \"acc\", accuracy_metric.result()))\n",
    "        if accuracy_metric.result()>best_acc:\n",
    "            model.save('./model/topic_cls')\n",
    "            best_acc=accuracy_metric.result()"
   ]
  },
  {
   "cell_type": "code",
   "execution_count": 75,
   "id": "84b82e44",
   "metadata": {},
   "outputs": [
    {
     "name": "stdout",
     "output_type": "stream",
     "text": [
      "word num: 30000, matched num: 19017\n",
      "[train ep 0] [loss]: 0.353  [acc]: 0.872\n",
      "[***** ep 0] [loss]: 0.316  [acc]: 0.889\n"
     ]
    },
    {
     "name": "stderr",
     "output_type": "stream",
     "text": [
      "WARNING:absl:Found untraced functions such as rnn_attention_dropout_layer_call_and_return_conditional_losses, rnn_attention_dropout_layer_call_fn, rnn_attention_dropout_layer_call_fn, rnn_attention_dropout_layer_call_and_return_conditional_losses, rnn_attention_dropout_layer_call_and_return_conditional_losses while saving (showing 5 of 15). These functions will not be directly callable after loading.\n",
      "WARNING:absl:Found untraced functions such as rnn_attention_dropout_layer_call_and_return_conditional_losses, rnn_attention_dropout_layer_call_fn, rnn_attention_dropout_layer_call_fn, rnn_attention_dropout_layer_call_and_return_conditional_losses, rnn_attention_dropout_layer_call_and_return_conditional_losses while saving (showing 5 of 15). These functions will not be directly callable after loading.\n"
     ]
    },
    {
     "name": "stdout",
     "output_type": "stream",
     "text": [
      "INFO:tensorflow:Assets written to: ./model/topic_cls/assets\n"
     ]
    },
    {
     "name": "stderr",
     "output_type": "stream",
     "text": [
      "INFO:tensorflow:Assets written to: ./model/topic_cls/assets\n"
     ]
    },
    {
     "name": "stdout",
     "output_type": "stream",
     "text": [
      "[train ep 1] [loss]: 0.263  [acc]: 0.905\n",
      "[***** ep 1] [loss]: 0.333  [acc]: 0.880\n",
      "[train ep 2] [loss]: 0.238  [acc]: 0.913\n",
      "[***** ep 2] [loss]: 0.346  [acc]: 0.878\n"
     ]
    }
   ],
   "source": [
    "if __name__ == \"__main__\":\n",
    "    max_seq_len = 128\n",
    "    num_classes = 3\n",
    "    vocab_size = 30000\n",
    "    train_path='/Users/wangshihang/Documents/Code/CharCnn_Keras-master/data/ag_news_csv/train.csv'\n",
    "    test_path='/Users/wangshihang/Documents/Code/CharCnn_Keras-master/data/ag_news_csv/test.csv'\n",
    "    GLoVe_path = '/Users/wangshihang/Documents/Code/Glove/glove.twitter.27B.100d.txt'\n",
    "\n",
    "    ### gen samples ###\n",
    "    train_x, train_y = load_data(train_path, max_seq_len, word_index, num_classes)\n",
    "    test_x, test_y = load_data(test_path, max_seq_len, word_index, num_classes)\n",
    "    key, freq = np.unique(np.argmax(train_y, axis = 1), return_counts = True)\n",
    "    train([train_x, train_y], [test_x, test_y], num_classes, vocab_size, epoches = 3, batch_size = 32)"
   ]
  },
  {
   "cell_type": "code",
   "execution_count": 4,
   "id": "c46a49f3",
   "metadata": {},
   "outputs": [
    {
     "name": "stdout",
     "output_type": "stream",
     "text": [
      "WARNING:tensorflow:No training configuration found in save file, so the model was *not* compiled. Compile it manually.\n"
     ]
    }
   ],
   "source": [
    "max_seq_len = 128\n",
    "num_classes = 3\n",
    "test_path='/Users/wangshihang/Documents/Code/CharCnn_Keras-master/data/ag_news_csv/test.csv'\n",
    "test_x, test_y = load_data(test_path, max_seq_len, word_index, num_classes)\n",
    "\n",
    "model = tf.keras.models.load_model(\"./model/topic_cls\")\n",
    "preds = []\n",
    "for i in range(238):\n",
    "    input_x=test_x[i*32:(i+1)*32]\n",
    "    raw_prob = model(input_x, training=False).numpy()\n",
    "    label = np.argmax(raw_prob,axis=1)\n",
    "    preds.extend(label)"
   ]
  },
  {
   "cell_type": "code",
   "execution_count": 5,
   "id": "58eab290",
   "metadata": {},
   "outputs": [
    {
     "data": {
      "text/plain": [
       "0.000921806442110162"
      ]
     },
     "execution_count": 5,
     "metadata": {},
     "output_type": "execute_result"
    }
   ],
   "source": [
    "preds = []\n",
    "start_time=time.time()\n",
    "for i in range(238):\n",
    "    input_x=test_x[i*32:(i+1)*32]\n",
    "    raw_prob = model(input_x, training=False).numpy()\n",
    "    label = np.argmax(raw_prob,axis=1)\n",
    "    preds.extend(label)\n",
    "end_time=time.time()\n",
    "(end_time-start_time)/len(test_x)"
   ]
  },
  {
   "cell_type": "code",
   "execution_count": 5,
   "id": "28b978db",
   "metadata": {},
   "outputs": [
    {
     "data": {
      "image/png": "[encoded data removed]",
      "text/plain": [
       "<Figure size 432x288 with 2 Axes>"
      ]
     },
     "metadata": {
      "needs_background": "light"
     },
     "output_type": "display_data"
    }
   ],
   "source": [
    "from sklearn.metrics import confusion_matrix\n",
    "from sklearn.metrics import ConfusionMatrixDisplay\n",
    "labels=np.argmax(test_y, axis=1)\n",
    "cm=confusion_matrix(preds, labels)\n",
    "cm_display = ConfusionMatrixDisplay(cm).plot()"
   ]
  },
  {
   "cell_type": "code",
   "execution_count": 7,
   "id": "ad88c20d",
   "metadata": {},
   "outputs": [
    {
     "name": "stdout",
     "output_type": "stream",
     "text": [
      "acc:  0.8889473684210526\n",
      "pre:  0.8748061010377491\n",
      "rcl:  0.868859649122807\n",
      "f1:  0.8716745851833126\n"
     ]
    }
   ],
   "source": [
    "from sklearn import metrics\n",
    "print('acc: ', metrics.accuracy_score(labels, preds))\n",
    "print('pre: ', metrics.precision_score(labels, preds, average='macro'))\n",
    "print('rcl: ', metrics.recall_score(labels, preds, average='macro'))\n",
    "print('f1: ', metrics.f1_score(labels, preds, average='macro'))"
   ]
  }
 ],
 "metadata": {
  "kernelspec": {
   "display_name": "Python 3",
   "language": "python",
   "name": "python3"
  },
  "language_info": {
   "codemirror_mode": {
    "name": "ipython",
    "version": 3
   },
   "file_extension": ".py",
   "mimetype": "text/x-python",
   "name": "python",
   "nbconvert_exporter": "python",
   "pygments_lexer": "ipython3",
   "version": "3.7.11"
  }
 },
 "nbformat": 4,
 "nbformat_minor": 5
}
